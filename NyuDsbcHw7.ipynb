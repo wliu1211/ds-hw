{
  "nbformat": 4,
  "nbformat_minor": 0,
  "metadata": {
    "colab": {
      "provenance": []
    },
    "kernelspec": {
      "name": "python3",
      "display_name": "Python 3"
    },
    "language_info": {
      "name": "python"
    }
  },
  "cells": [
    {
      "cell_type": "markdown",
      "source": [
        "## Homework 7"
      ],
      "metadata": {
        "id": "9Z6F1E86iKFr"
      }
    },
    {
      "cell_type": "markdown",
      "source": [
        "#### 1. How do you control for biases?\n",
        " * Using random assignments can control biases by eliminating all possible confounds, known or unknown. The control emerges from the randomization\n",
        "\n",
        "\n",
        "#### 2. What are confounding variables?\n",
        "  * Confounding cariables are variables that influence both the dependent and independent variables. This makes it harder to isolate the effects of the independent variables on the dependent variable because the confounding variable may affect the outcome.\n",
        "\n",
        "#### 3. What is A/B testing?\n",
        "  * A/B testing is an experimental approach that evaluates the differences between two independent groups to solve for the alpha value. The alpha value is then compared to the significant value 0.05\n",
        "\n",
        "#### 4. When will you use Welch t-test?\n",
        "  * We use the Welch t-test when the assumption of equal variances is violated.\n",
        "\n",
        "#### 5. A company claims that the average time its customer service representatives spend on the phone per call is 6 minutes. You believe that the average time is actually higher. You collect a random sample of 50 calls and find that the average time spent on the phone per call in your sample is 6.5 minutes, with a standard deviation of 1.2 minutes. Test whether there is sufficient evidence to support your claim at a significance level of 0.05.\n",
        " * z = $\\frac{6.5-6}{1.2\\sqrt{50}}$\n",
        " * z = 0.0589\n",
        " * For a two-tailed test and α = 0.05, the critical Z-value is approximately ±1.96\n",
        " * Since our calculated Z- value (0.0589) is less than the critical Z-value, we accept the null hypothesis.\n",
        "\n",
        "\n",
        "#### 6. A researcher wants to determine whether there is a difference in the mean scores of two groups of students on a math test. Group A consists of 25 students who received traditional teaching methods, while Group B consists of 30 students who received a new teaching method. The average score for Group A is 75, with a standard deviation of 8, and the average score for Group B is 78, with a standard deviation of 7. Test whether there is a significant difference in the mean scores of the two groups at a significance level of 0.05.\n",
        " * t = $\\frac{75-78}{\\sqrt{\\frac{8^2}{25}+\\frac{7^2}{30}}}$\n",
        " * t = -1.465\n",
        " * For a two-tailed test and α = 0.05, the critical t-value is approximately ±2.01\n",
        " * Since the absolute value of the t-value (1.465) is less than the critical t-value (2.01), we do NOT reject the null hypothesis."
      ],
      "metadata": {
        "id": "DQxiskzLiRvs"
      }
    }
  ]
}