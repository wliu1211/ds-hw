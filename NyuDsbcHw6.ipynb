{
  "nbformat": 4,
  "nbformat_minor": 0,
  "metadata": {
    "colab": {
      "provenance": []
    },
    "kernelspec": {
      "name": "python3",
      "display_name": "Python 3"
    },
    "language_info": {
      "name": "python"
    }
  },
  "cells": [
    {
      "cell_type": "markdown",
      "source": [
        "## Homework 6"
      ],
      "metadata": {
        "id": "aQ_qOsy9btyH"
      }
    },
    {
      "cell_type": "markdown",
      "source": [
        "#### 1.Preprocess Test data and get predictions\n",
        "\n",
        "\n"
      ],
      "metadata": {
        "id": "Jua2AA7hcVc6"
      }
    },
    {
      "cell_type": "code",
      "source": [
        "# Linear Regression Model\n",
        "import pandas as pd\n",
        "import numpy as np\n",
        "from sklearn.model_selection import train_test_split\n",
        "from sklearn.metrics import mean_squared_error, mean_absolute_error, r2_score\n",
        "from sklearn.linear_model import LinearRegression\n",
        "\n",
        "df = pd.read_csv('/content/employee.csv')\n",
        "\n",
        "unfiltered_X = df.drop(['timestamp', 'country', 'employment_status', 'job_title', 'is_manager',\n",
        "             'education', 'is_education_computer_related', 'certifications', 'salary'], axis=1)\n",
        "X = unfiltered_X.dropna(axis=1)\n",
        "y = df['salary']\n",
        "\n",
        "X_train, X_test, y_train, y_test = train_test_split(X, y)\n",
        "model = LinearRegression()\n",
        "\n",
        "model.fit(X_train, y_train)\n",
        "\n",
        "y_pred = model.predict(X_test)"
      ],
      "metadata": {
        "id": "Npgd2OfycXNd"
      },
      "execution_count": null,
      "outputs": []
    },
    {
      "cell_type": "markdown",
      "source": [
        "#### 2.Compute Mean Absolute Error, Mean Square error for test data."
      ],
      "metadata": {
        "id": "bmAsqPulibwN"
      }
    },
    {
      "cell_type": "code",
      "source": [
        "mse = mean_squared_error(y_test, y_pred)\n",
        "mae = mean_absolute_error(y_test, y_pred)\n",
        "r2 = r2_score(y_test, y_pred)\n",
        "\n",
        "print('Mean Squared Error:', mse)\n",
        "print('Mean Absolue Error:', mae)\n",
        "print('R^2 Score:', r2)"
      ],
      "metadata": {
        "colab": {
          "base_uri": "https://localhost:8080/"
        },
        "id": "9UimB00VieXA",
        "outputId": "5b7788e4-0df1-4fb3-e480-36e546e84780"
      },
      "execution_count": null,
      "outputs": [
        {
          "output_type": "stream",
          "name": "stdout",
          "text": [
            "Mean Squared Error: 1673796.488577029\n",
            "Mean Absolue Error: 893.9306950385171\n",
            "R^2 Score: 0.0017659391767698152\n"
          ]
        }
      ]
    }
  ]
}