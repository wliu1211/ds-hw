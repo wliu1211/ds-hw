{
  "nbformat": 4,
  "nbformat_minor": 0,
  "metadata": {
    "colab": {
      "provenance": []
    },
    "kernelspec": {
      "name": "python3",
      "display_name": "Python 3"
    },
    "language_info": {
      "name": "python"
    }
  },
  "cells": [
    {
      "cell_type": "markdown",
      "source": [
        "## Homework 8"
      ],
      "metadata": {
        "id": "AxBdiBwne1Rw"
      }
    },
    {
      "cell_type": "markdown",
      "source": [
        "#### 1)Try different thresholds for computing predictions using 'Al' column. By default it is 0.5. Use predict_proba function to compute probabilities and then try custom thresholds and see their impact on Accuracy, Precision and Recall."
      ],
      "metadata": {
        "id": "stYKjFjDe8L9"
      }
    },
    {
      "cell_type": "code",
      "source": [
        "import numpy as np\n",
        "import pandas as pd\n",
        "from sklearn.model_selection import train_test_split\n",
        "from sklearn.linear_model import LogisticRegression\n",
        "from sklearn.metrics import accuracy_score, precision_score, recall_score\n",
        "\n",
        "df = pd.read_csv('/content/glass.csv')\n",
        "X = df[['Al']]\n",
        "y = df['Type']\n",
        "\n",
        "X_train, X_test, y_train, y_test = train_test_split(X, y, test_size=0.2, random_state=42)\n",
        "\n",
        "model = LogisticRegression()\n",
        "model.fit(X_train, y_train)\n",
        "\n",
        "probabilities = model.predict_proba(X_test)[:, 1]\n",
        "\n",
        "thresholds = np.arange(0.1, 1, 0.1)\n",
        "\n",
        "accuracy_scores = []\n",
        "precision_scores = []\n",
        "recall_scores=[]\n",
        "\n",
        "for threshold in thresholds:\n",
        "  predictions = (probabilities >= threshold).astype(int)\n",
        "\n",
        "  accuracy = accuracy_score(y_test, predictions)\n",
        "  precision = precision_score(y_test, predictions, average='weighted', zero_division=0)\n",
        "  recall = recall_score(y_test, predictions, average='weighted', zero_division=0)\n",
        "\n",
        "  accuracy_scores.append(accuracy)\n",
        "  precision_scores.append(precision)\n",
        "  recall_scores.append(recall)\n",
        "\n",
        "for i, threshold in enumerate(thresholds):\n",
        "  print(f\"Threshold: {threshold:.1f}, Accuracy: {accuracy_scores[i]:.2f}, Precision: {precision_scores[i]:.2f}, Recall: {recall_scores[i]:.2f}\")\n",
        "\n"
      ],
      "metadata": {
        "colab": {
          "base_uri": "https://localhost:8080/"
        },
        "id": "yd8F-eryfC--",
        "outputId": "55689b06-3c36-411f-be8a-e8dd25afcf60"
      },
      "execution_count": 4,
      "outputs": [
        {
          "output_type": "stream",
          "name": "stdout",
          "text": [
            "Threshold: 0.1, Accuracy: 0.26, Precision: 0.07, Recall: 0.26\n",
            "Threshold: 0.2, Accuracy: 0.26, Precision: 0.07, Recall: 0.26\n",
            "Threshold: 0.3, Accuracy: 0.21, Precision: 0.07, Recall: 0.21\n",
            "Threshold: 0.4, Accuracy: 0.05, Precision: 0.03, Recall: 0.05\n",
            "Threshold: 0.5, Accuracy: 0.00, Precision: 0.00, Recall: 0.00\n",
            "Threshold: 0.6, Accuracy: 0.00, Precision: 0.00, Recall: 0.00\n",
            "Threshold: 0.7, Accuracy: 0.00, Precision: 0.00, Recall: 0.00\n",
            "Threshold: 0.8, Accuracy: 0.00, Precision: 0.00, Recall: 0.00\n",
            "Threshold: 0.9, Accuracy: 0.00, Precision: 0.00, Recall: 0.00\n"
          ]
        }
      ]
    },
    {
      "cell_type": "markdown",
      "source": [
        "#### 2) Do the same analysis for other columns"
      ],
      "metadata": {
        "id": "USzx-lR3fDJb"
      }
    },
    {
      "cell_type": "code",
      "source": [
        "df = pd.read_csv('/content/glass.csv')\n",
        "X = df[['Ba']]\n",
        "y = df['Type']\n",
        "\n",
        "X_train, X_test, y_train, y_test = train_test_split(X, y, test_size=0.2, random_state=42)\n",
        "\n",
        "model = LogisticRegression()\n",
        "model.fit(X_train, y_train)\n",
        "\n",
        "probabilities = model.predict_proba(X_test)[:, 1]\n",
        "\n",
        "thresholds = np.arange(0.1, 1, 0.1)\n",
        "\n",
        "accuracy_scores = []\n",
        "precision_scores = []\n",
        "recall_scores=[]\n",
        "\n",
        "for threshold in thresholds:\n",
        "  predictions = (probabilities >= threshold).astype(int)\n",
        "\n",
        "  accuracy = accuracy_score(y_test, predictions)\n",
        "  precision = precision_score(y_test, predictions, average='weighted', zero_division=0)\n",
        "  recall = recall_score(y_test, predictions, average='weighted', zero_division=0)\n",
        "\n",
        "  accuracy_scores.append(accuracy)\n",
        "  precision_scores.append(precision)\n",
        "  recall_scores.append(recall)\n",
        "\n",
        "for i, threshold in enumerate(thresholds):\n",
        "  print(f\"Threshold: {threshold:.1f}, Accuracy: {accuracy_scores[i]:.2f}, Precision: {precision_scores[i]:.2f}, Recall: {recall_scores[i]:.2f}\")\n"
      ],
      "metadata": {
        "colab": {
          "base_uri": "https://localhost:8080/"
        },
        "id": "NekraSTIe7mt",
        "outputId": "6abfbfaf-52d0-43c8-d659-ec37fe60d779"
      },
      "execution_count": null,
      "outputs": [
        {
          "output_type": "stream",
          "name": "stdout",
          "text": [
            "Threshold: 0.1, Accuracy: 0.26, Precision: 0.07, Recall: 0.26\n",
            "Threshold: 0.2, Accuracy: 0.26, Precision: 0.07, Recall: 0.26\n",
            "Threshold: 0.3, Accuracy: 0.26, Precision: 0.07, Recall: 0.26\n",
            "Threshold: 0.4, Accuracy: 0.00, Precision: 0.00, Recall: 0.00\n",
            "Threshold: 0.5, Accuracy: 0.00, Precision: 0.00, Recall: 0.00\n",
            "Threshold: 0.6, Accuracy: 0.00, Precision: 0.00, Recall: 0.00\n",
            "Threshold: 0.7, Accuracy: 0.00, Precision: 0.00, Recall: 0.00\n",
            "Threshold: 0.8, Accuracy: 0.00, Precision: 0.00, Recall: 0.00\n",
            "Threshold: 0.9, Accuracy: 0.00, Precision: 0.00, Recall: 0.00\n"
          ]
        }
      ]
    },
    {
      "cell_type": "markdown",
      "source": [
        "#### 3) Fit a Logistic Regression Model on all features. Remember to preprocess data(eg. normalization and one hot encoding)."
      ],
      "metadata": {
        "id": "nIWH8ut1fHAd"
      }
    },
    {
      "cell_type": "code",
      "source": [
        "from sklearn.linear_model import LogisticRegression\n",
        "from sklearn.preprocessing import StandardScaler, OneHotEncoder\n",
        "from sklearn.compose import ColumnTransformer\n",
        "from sklearn.pipeline import Pipeline\n",
        "from sklearn.metrics import accuracy_score\n",
        "from sklearn.impute import SimpleImputer\n",
        "\n",
        "df = pd.read_csv('/content/glass.csv')\n",
        "X = df.drop('Type', axis=1)\n",
        "y = df['Type']\n",
        "\n",
        "numeric_features = ['RI', 'Na', 'Mg', 'Si', 'K', 'Ca', 'Ba', 'Fe', 'Al']\n",
        "\n",
        "numeric_transformer = Pipeline(steps=[\n",
        "    ('imputer', SimpleImputer(strategy='median')),\n",
        "    ('scaler', StandardScaler())\n",
        "])\n",
        "preprocessor = ColumnTransformer(\n",
        "    transformers=[\n",
        "        ('num', numeric_transformer, numeric_features),\n",
        "    ])\n",
        "clf = Pipeline(steps=[\n",
        "    ('preprocessor', preprocessor),\n",
        "    ('classifier', LogisticRegression(max_iter=1000))\n",
        "])\n",
        "\n",
        "X_train, X_test, y_train, y_test = train_test_split(X, y, test_size=0.2, random_state=42)\n",
        "\n",
        "clf.fit(X_train,y_train)\n",
        "\n",
        "y_pred = clf.predict(X_test)\n",
        "accuracy = accuracy_score(y_test, y_pred)\n",
        "print(f'Accuracy: {accuracy: 0.2f}')\n",
        "\n"
      ],
      "metadata": {
        "colab": {
          "base_uri": "https://localhost:8080/"
        },
        "id": "KBZ-D1CQfHOs",
        "outputId": "633f75b2-16ca-42ef-8078-dc4e24db7423"
      },
      "execution_count": null,
      "outputs": [
        {
          "output_type": "stream",
          "name": "stdout",
          "text": [
            "Accuracy:  0.72\n"
          ]
        }
      ]
    },
    {
      "cell_type": "code",
      "source": [],
      "metadata": {
        "id": "KvOTC2lkypl6"
      },
      "execution_count": null,
      "outputs": []
    }
  ]
}